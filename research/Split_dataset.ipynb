{
 "cells": [
  {
   "cell_type": "code",
   "execution_count": 6,
   "metadata": {},
   "outputs": [
    {
     "data": {
      "text/plain": [
       "'C:\\\\Users\\\\arunk\\\\Deep Learning\\\\DEEPCNNClassifier'"
      ]
     },
     "execution_count": 6,
     "metadata": {},
     "output_type": "execute_result"
    }
   ],
   "source": [
    "import os\n",
    "os.chdir(r'C:\\Users\\arunk\\Deep Learning\\DEEPCNNClassifier')\n",
    "os.getcwd()"
   ]
  },
  {
   "cell_type": "code",
   "execution_count": 43,
   "metadata": {},
   "outputs": [],
   "source": [
    "from  deepClassifier.entity.config_entity import DataIngestionConfig\n",
    "from deepClassifier.components.data_Ingestion import DataIngestion as dt \n",
    "from deepClassifier.constants import CONFIG_FILE_PATH, PARAMS_FILE_PATH\n",
    "from deepClassifier.config.configuration import ConfigurationManager as cm \n",
    "from deepClassifier.utils import read_yaml,create_directories"
   ]
  },
  {
   "cell_type": "code",
   "execution_count": 46,
   "metadata": {},
   "outputs": [
    {
     "name": "stdout",
     "output_type": "stream",
     "text": [
      "(2022-12-06 02:17:18,523:INFO:common: yaml file: configs\\config.yaml loaded successfully)\n"
     ]
    }
   ],
   "source": [
    "\n",
    "file = read_yaml(CONFIG_FILE_PATH)\n",
    "config:DataIngestionConfig = file.data_ingestion\n"
   ]
  },
  {
   "cell_type": "code",
   "execution_count": 49,
   "metadata": {},
   "outputs": [
    {
     "name": "stdout",
     "output_type": "stream",
     "text": [
      "(2022-12-06 02:18:26,696:INFO:data_Ingestion: spliting data into train {self.config.train_size} and test)\n"
     ]
    },
    {
     "ename": "NameError",
     "evalue": "name 'input_folder' is not defined",
     "output_type": "error",
     "traceback": [
      "\u001b[1;31m---------------------------------------------------------------------------\u001b[0m",
      "\u001b[1;31mNameError\u001b[0m                                 Traceback (most recent call last)",
      "Cell \u001b[1;32mIn [49], line 2\u001b[0m\n\u001b[0;32m      1\u001b[0m obj \u001b[39m=\u001b[39m dt(config \u001b[39m=\u001b[39m DataIngestionConfig)\n\u001b[1;32m----> 2\u001b[0m obj\u001b[39m.\u001b[39mtrain_test_split()\n",
      "File \u001b[1;32m~\\Deep Learning\\DEEPCNNClassifier\\src\\deepClassifier\\components\\data_Ingestion.py:57\u001b[0m, in \u001b[0;36mDataIngestion.train_test_split\u001b[1;34m(self)\u001b[0m\n\u001b[0;32m     55\u001b[0m logger\u001b[39m.\u001b[39minfo(\u001b[39m\"\u001b[39m\u001b[39mspliting data into train \u001b[39m\u001b[39m{self.config.train_size}\u001b[39;00m\u001b[39m and test\u001b[39m\u001b[39m\"\u001b[39m)\n\u001b[0;32m     56\u001b[0m input_folder \u001b[39m=\u001b[39m \u001b[39mself\u001b[39m\u001b[39m.\u001b[39mconfig\u001b[39m.\u001b[39munzip_dir\u001b[39m+\u001b[39m\u001b[39m'\u001b[39m\u001b[39m/Petimages\u001b[39m\u001b[39m'\u001b[39m\n\u001b[1;32m---> 57\u001b[0m splitfolders\u001b[39m.\u001b[39mratio(input_folder, output\u001b[39m=\u001b[39m\u001b[39mself\u001b[39m\u001b[39m.\u001b[39mconfig\u001b[39m.\u001b[39munzip_dir, seed\u001b[39m=\u001b[39m\u001b[39m42\u001b[39m, ratio\u001b[39m=\u001b[39m(\u001b[39mself\u001b[39m\u001b[39m.\u001b[39mconfig\u001b[39m.\u001b[39mtrain_size,\u001b[39m0\u001b[39m,\u001b[39m1\u001b[39m\u001b[39m-\u001b[39m\u001b[39mself\u001b[39m\u001b[39m.\u001b[39mconfig\u001b[39m.\u001b[39mtrain_size))\n",
      "\u001b[1;31mNameError\u001b[0m: name 'input_folder' is not defined"
     ]
    }
   ],
   "source": [
    "obj = dt(config = DataIngestionConfig)\n",
    "obj.train_test_split()"
   ]
  },
  {
   "cell_type": "code",
   "execution_count": 27,
   "metadata": {},
   "outputs": [
    {
     "name": "stderr",
     "output_type": "stream",
     "text": [
      "Copying files: 24998 files [00:27, 916.82 files/s] \n"
     ]
    }
   ],
   "source": [
    "import splitfolders\n",
    "\n",
    "splitfolders.ratio(input_folder, output=output_folder, seed=42, ratio=(0.8,0,0.2))"
   ]
  },
  {
   "cell_type": "code",
   "execution_count": 15,
   "metadata": {},
   "outputs": [],
   "source": [
    "from pathlib import Path\n",
    "from sklearn.model_selection import  StratifiedShuffleSplit\n",
    "import shutil\n",
    "import numpy as np\n",
    "def image_train_test_split(input_path, output_path,fmt, train_size):\n",
    "  train_folder = Path(output_path+'/train')\n",
    "  test_folder = Path(output_path+'/test')\n",
    "\n",
    "  train_folder.mkdir(exist_ok=True)\n",
    "  test_folder.mkdir(exist_ok=True)\n",
    "\n",
    "  data_path = Path(input_path)\n",
    "  data = []\n",
    "  for d in data_path.glob('*'):\n",
    "    for f in d.glob(f'*.{fmt}'):\n",
    "      data.append([f, d.stem])\n",
    "  data = np.array(data)\n",
    "\n",
    "  ss = StratifiedShuffleSplit(1, train_size=train_size)\n",
    "  train_ix, test_ix = next(ss.split(data[:,0], data[:,1]))\n",
    "\n",
    "  train_set, test_set = data[train_ix], data[test_ix]\n",
    "\n",
    "  for p, c in train_set:\n",
    "    \n",
    "    (train_folder / c).mkdir(exist_ok=True)\n",
    "    shutil.copy(p, train_folder.joinpath(*p.parts[-2:]))\n",
    "\n",
    "  for p, c in test_set:\n",
    "    \n",
    "    (test_folder / c).mkdir(exist_ok=True)\n",
    "    shutil.copy(p, test_folder.joinpath(*p.parts[-2:]))"
   ]
  },
  {
   "cell_type": "code",
   "execution_count": 16,
   "metadata": {},
   "outputs": [],
   "source": [
    "image_train_test_split(input_folder, output_folder,'jpg', 0.8)"
   ]
  },
  {
   "cell_type": "code",
   "execution_count": null,
   "metadata": {},
   "outputs": [],
   "source": []
  }
 ],
 "metadata": {
  "kernelspec": {
   "display_name": "Python 3.8.13",
   "language": "python",
   "name": "python3"
  },
  "language_info": {
   "codemirror_mode": {
    "name": "ipython",
    "version": 3
   },
   "file_extension": ".py",
   "mimetype": "text/x-python",
   "name": "python",
   "nbconvert_exporter": "python",
   "pygments_lexer": "ipython3",
   "version": "3.8.13"
  },
  "orig_nbformat": 4,
  "vscode": {
   "interpreter": {
    "hash": "d3a79117a598c8d2115253060051b792d7bb7fc127847d62655e13b58c64827c"
   }
  }
 },
 "nbformat": 4,
 "nbformat_minor": 2
}
