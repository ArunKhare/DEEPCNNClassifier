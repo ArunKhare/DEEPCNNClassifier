{
 "cells": [
  {
   "cell_type": "code",
   "execution_count": null,
   "metadata": {},
   "outputs": [],
   "source": [
    "from dataclasses import dataclass\n",
    "from configs\n",
    "from pathlib import Path\n",
    "from unittest.mock import patch\n",
    "\n",
    "@dataclass (frozen=True)\n",
    "class PrepareBaseModelConfig:\n",
    "    root_dir: Path\n",
    "    base_model_path:Path\n",
    "    updated_base_model_path:Path\n",
    "\n",
    "    def __init__(self):\n",
    "        pass\n",
    "    def get_prepare_base_model_config(self)->PrepareBaseModelConfig:\n",
    "        config = self.\n",
    "\n",
    "    def \n"
   ]
  }
 ],
 "metadata": {
  "kernelspec": {
   "display_name": "Python 3.8.13",
   "language": "python",
   "name": "python3"
  },
  "language_info": {
   "name": "python",
   "version": "3.8.13"
  },
  "orig_nbformat": 4,
  "vscode": {
   "interpreter": {
    "hash": "d3a79117a598c8d2115253060051b792d7bb7fc127847d62655e13b58c64827c"
   }
  }
 },
 "nbformat": 4,
 "nbformat_minor": 2
}
