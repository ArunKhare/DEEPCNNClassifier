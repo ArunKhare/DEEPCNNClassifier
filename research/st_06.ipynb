{
 "cells": [
  {
   "cell_type": "code",
   "execution_count": 1,
   "metadata": {},
   "outputs": [],
   "source": [
    "# import tensorflow as tf\n",
    "import os, stat"
   ]
  },
  {
   "cell_type": "code",
   "execution_count": 2,
   "metadata": {},
   "outputs": [
    {
     "data": {
      "text/plain": [
       "'C:\\\\Users\\\\arunk\\\\Deep Learning\\\\DEEPCNNClassifier'"
      ]
     },
     "execution_count": 2,
     "metadata": {},
     "output_type": "execute_result"
    }
   ],
   "source": [
    "os.chdir(r'C:\\Users\\arunk\\Deep Learning\\DEEPCNNClassifier')\n",
    "os.getcwd()\n",
    "# os.chmod(os.getcwd(),stat.S_IRWXG)"
   ]
  },
  {
   "cell_type": "code",
   "execution_count": 3,
   "metadata": {},
   "outputs": [],
   "source": [
    "from dataclasses import dataclass\n",
    "from pathlib import Path\n",
    "@dataclass(frozen=True)\n",
    "class DataSplitconfig:\n",
    "    data_dir: Path"
   ]
  },
  {
   "cell_type": "code",
   "execution_count": 91,
   "metadata": {},
   "outputs": [
    {
     "data": {
      "text/plain": [
       "True"
      ]
     },
     "execution_count": 91,
     "metadata": {},
     "output_type": "execute_result"
    }
   ],
   "source": [
    "data_dir= Path(\"artifacts/data_ingestion\")\n",
    "os.path.expanduser(data_dir)\n",
    "os.path.exists(str(data_dir))"
   ]
  },
  {
   "cell_type": "code",
   "execution_count": 92,
   "metadata": {},
   "outputs": [
    {
     "data": {
      "text/plain": [
       "['artifacts\\\\data_ingestion\\\\PetImages\\\\Cat',\n",
       " 'artifacts\\\\data_ingestion\\\\PetImages\\\\Dog']"
      ]
     },
     "execution_count": 92,
     "metadata": {},
     "output_type": "execute_result"
    }
   ],
   "source": [
    "import re\n",
    "clss = ['Dog', 'Cat']\n",
    "cls_dir = []\n",
    "\n",
    "for root, dirs, files in os.walk(data_dir):\n",
    "\n",
    "    for i in clss:\n",
    "        if re.findall((r\"PetImages\\\\\")+(i),root):\n",
    "            cls_dir.append(root)\n",
    "        \n",
    "cls_dir\n"
   ]
  },
  {
   "cell_type": "code",
   "execution_count": 93,
   "metadata": {},
   "outputs": [
    {
     "data": {
      "text/plain": [
       "['Dog', 'Cat']"
      ]
     },
     "execution_count": 93,
     "metadata": {},
     "output_type": "execute_result"
    }
   ],
   "source": [
    "import numpy as np\n",
    "import shutil\n",
    "import random\n",
    "test_ratio = 0.20\n",
    "# allFileNames =[]\n",
    "for cls in clss:\n",
    "    os.makedirs(data_dir/'/train/'/cls,exist_ok=True)\n",
    "    os.makedirs(data_dir/'/test/' / cls,exist_ok=True)\n",
    "clss"
   ]
  },
  {
   "cell_type": "code",
   "execution_count": 94,
   "metadata": {},
   "outputs": [],
   "source": [
    "for cls in cls_dir:\n",
    "    if os.path.basename(cls) == 'Dog':\n",
    "        Dog_cls_filename=os.listdir(cls)\n",
    "    elif os.path.basename(cls) =='Cat':\n",
    "        Cat_cls_filename = os.listdir(cls)\n",
    "\n",
    "np.random.shuffle(Dog_cls_filename)\n",
    "train_Dog_FileNames, test_Dog_FileNames = np.split(np.array(Dog_cls_filename), [int(len(Dog_cls_filename)* (1 - test_ratio))])\n",
    "\n",
    "np.random.shuffle(Cat_cls_filename)\n",
    "train_Cat_FileNames, test_Cat_FileNames = np.split(np.array(Cat_cls_filename), [int(len(Cat_cls_filename)* (1 - test_ratio))])"
   ]
  },
  {
   "cell_type": "code",
   "execution_count": 101,
   "metadata": {},
   "outputs": [
    {
     "name": "stdout",
     "output_type": "stream",
     "text": [
      "Cat\n",
      "artifacts\\data_ingestion\\PetImages\\Cat\n",
      "artifacts\\data_ingestion\\train\\Cat\n",
      "Dog\n",
      "artifacts\\data_ingestion\\PetImages\\Dog\n",
      "artifacts\\data_ingestion\\train\\Dog\n"
     ]
    },
    {
     "data": {
      "text/plain": [
       "os.stat_result(st_mode=16749, st_ino=17451448556061868, st_dev=1358179443, st_nlink=1, st_uid=0, st_gid=0, st_size=2883584, st_atime=1670263626, st_mtime=1670216856, st_ctime=1670216597)"
      ]
     },
     "execution_count": 101,
     "metadata": {},
     "output_type": "execute_result"
    }
   ],
   "source": [
    "for cls in cls_dir:\n",
    "    print(os.path.basename(cls))\n",
    "    print(cls)\n",
    "    print(data_dir/'train' / os.path.basename(cls))\n",
    "\n",
    "metadata_src = os.stat(cls_dir[0])\n",
    "metadata_src"
   ]
  },
  {
   "cell_type": "code",
   "execution_count": 108,
   "metadata": {},
   "outputs": [
    {
     "ename": "PermissionError",
     "evalue": "[Errno 13] Permission denied: 'artifacts\\\\data_ingestion\\\\PetImages\\\\Dog'",
     "output_type": "error",
     "traceback": [
      "\u001b[1;31m---------------------------------------------------------------------------\u001b[0m",
      "\u001b[1;31mPermissionError\u001b[0m                           Traceback (most recent call last)",
      "Cell \u001b[1;32mIn [108], line 5\u001b[0m\n\u001b[0;32m      3\u001b[0m     \u001b[39mif\u001b[39;00m os\u001b[39m.\u001b[39mpath\u001b[39m.\u001b[39mbasename(\u001b[39mcls\u001b[39m) \u001b[39m==\u001b[39m \u001b[39m'\u001b[39m\u001b[39mDog\u001b[39m\u001b[39m'\u001b[39m:\n\u001b[0;32m      4\u001b[0m       \u001b[39mdir\u001b[39m \u001b[39m=\u001b[39mdata_dir\u001b[39m/\u001b[39m\u001b[39m'\u001b[39m\u001b[39mtrain\u001b[39m\u001b[39m'\u001b[39m \u001b[39m/\u001b[39m os\u001b[39m.\u001b[39mpath\u001b[39m.\u001b[39mbasename(\u001b[39mcls\u001b[39m)\n\u001b[1;32m----> 5\u001b[0m       shutil\u001b[39m.\u001b[39mcopy2(\u001b[39mcls\u001b[39m,\u001b[39mdir\u001b[39m)\n\u001b[0;32m      7\u001b[0m \u001b[39mfor\u001b[39;00m name \u001b[39min\u001b[39;00m test_Dog_FileNames:\n\u001b[0;32m      8\u001b[0m   \u001b[39mfor\u001b[39;00m \u001b[39mcls\u001b[39m \u001b[39min\u001b[39;00m cls_dir:\n",
      "File \u001b[1;32mc:\\Users\\arunk\\ComputerVision\\CNN\\DEEPCNNClassifier\\env\\lib\\shutil.py:435\u001b[0m, in \u001b[0;36mcopy2\u001b[1;34m(src, dst, follow_symlinks)\u001b[0m\n\u001b[0;32m    433\u001b[0m \u001b[39mif\u001b[39;00m os\u001b[39m.\u001b[39mpath\u001b[39m.\u001b[39misdir(dst):\n\u001b[0;32m    434\u001b[0m     dst \u001b[39m=\u001b[39m os\u001b[39m.\u001b[39mpath\u001b[39m.\u001b[39mjoin(dst, os\u001b[39m.\u001b[39mpath\u001b[39m.\u001b[39mbasename(src))\n\u001b[1;32m--> 435\u001b[0m copyfile(src, dst, follow_symlinks\u001b[39m=\u001b[39;49mfollow_symlinks)\n\u001b[0;32m    436\u001b[0m copystat(src, dst, follow_symlinks\u001b[39m=\u001b[39mfollow_symlinks)\n\u001b[0;32m    437\u001b[0m \u001b[39mreturn\u001b[39;00m dst\n",
      "File \u001b[1;32mc:\\Users\\arunk\\ComputerVision\\CNN\\DEEPCNNClassifier\\env\\lib\\shutil.py:264\u001b[0m, in \u001b[0;36mcopyfile\u001b[1;34m(src, dst, follow_symlinks)\u001b[0m\n\u001b[0;32m    262\u001b[0m     os\u001b[39m.\u001b[39msymlink(os\u001b[39m.\u001b[39mreadlink(src), dst)\n\u001b[0;32m    263\u001b[0m \u001b[39melse\u001b[39;00m:\n\u001b[1;32m--> 264\u001b[0m     \u001b[39mwith\u001b[39;00m \u001b[39mopen\u001b[39;49m(src, \u001b[39m'\u001b[39;49m\u001b[39mrb\u001b[39;49m\u001b[39m'\u001b[39;49m) \u001b[39mas\u001b[39;00m fsrc, \u001b[39mopen\u001b[39m(dst, \u001b[39m'\u001b[39m\u001b[39mwb\u001b[39m\u001b[39m'\u001b[39m) \u001b[39mas\u001b[39;00m fdst:\n\u001b[0;32m    265\u001b[0m         \u001b[39m# macOS\u001b[39;00m\n\u001b[0;32m    266\u001b[0m         \u001b[39mif\u001b[39;00m _HAS_FCOPYFILE:\n\u001b[0;32m    267\u001b[0m             \u001b[39mtry\u001b[39;00m:\n",
      "\u001b[1;31mPermissionError\u001b[0m: [Errno 13] Permission denied: 'artifacts\\\\data_ingestion\\\\PetImages\\\\Dog'"
     ]
    }
   ],
   "source": [
    "for name in train_Dog_FileNames:\n",
    "  for cls in cls_dir:\n",
    "    if os.path.basename(cls) == 'Dog':\n",
    "      dir =data_dir/'train' / os.path.basename(cls)\n",
    "      shutil.copy2(cls,dir)\n",
    "     \n",
    "for name in test_Dog_FileNames:\n",
    "  for cls in cls_dir:\n",
    "    if os.path.basename(cls) == 'Dog':\n",
    "      dir =data_dir/'test' / os.path.basename(cls)\n",
    "      shutil.copy2(cls,dir)\n",
    "     \n",
    "for name in train_Cat_FileNames:\n",
    "  for cls in cls_dir:\n",
    "    if os.path.basename(cls) =='Cat':\n",
    "      dir =data_dir/'train' / os.path.basename(cls)\n",
    "      shutil.copy2(cls, dir)\n",
    "     \n",
    "for name in test_Cat_FileNames:\n",
    "  for cls in cls_dir:\n",
    "    if os.path.basename(cls) =='Cat':\n",
    "      dir =data_dir/'test' / os.path.basename(cls)\n",
    "      shutil.copy2(cls, dir)\n",
    "     "
   ]
  },
  {
   "cell_type": "code",
   "execution_count": 106,
   "metadata": {},
   "outputs": [
    {
     "name": "stdout",
     "output_type": "stream",
     "text": [
      "artifacts\\data_ingestion\\train   train/ 0\n",
      "artifacts\\data_ingestion\\train\\Cat   train/ 0\n",
      "artifacts\\data_ingestion\\train\\Dog   train/ 0\n",
      "artifacts\\data_ingestion\\test   test/ 0\n",
      "artifacts\\data_ingestion\\test\\Cat   test/ 0\n",
      "artifacts\\data_ingestion\\test\\Dog   test/ 0\n"
     ]
    }
   ],
   "source": [
    "paths = ['train/', 'test/']\n",
    "for p in paths:\n",
    "  for dir,subdir,files in os.walk(data_dir/ p):\n",
    "\n",
    "    print(dir,' ', p, str(len(files)))"
   ]
  },
  {
   "cell_type": "code",
   "execution_count": null,
   "metadata": {},
   "outputs": [],
   "source": []
  }
 ],
 "metadata": {
  "kernelspec": {
   "display_name": "Python 3.8.13",
   "language": "python",
   "name": "python3"
  },
  "language_info": {
   "codemirror_mode": {
    "name": "ipython",
    "version": 3
   },
   "file_extension": ".py",
   "mimetype": "text/x-python",
   "name": "python",
   "nbconvert_exporter": "python",
   "pygments_lexer": "ipython3",
   "version": "3.8.13"
  },
  "orig_nbformat": 4,
  "vscode": {
   "interpreter": {
    "hash": "d3a79117a598c8d2115253060051b792d7bb7fc127847d62655e13b58c64827c"
   }
  }
 },
 "nbformat": 4,
 "nbformat_minor": 2
}
